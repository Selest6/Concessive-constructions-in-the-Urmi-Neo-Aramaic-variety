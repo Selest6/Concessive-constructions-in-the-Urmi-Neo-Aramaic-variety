{
  "nbformat": 4,
  "nbformat_minor": 0,
  "metadata": {
    "colab": {
      "provenance": []
    },
    "kernelspec": {
      "name": "python3",
      "display_name": "Python 3"
    },
    "language_info": {
      "name": "python"
    }
  },
  "cells": [
    {
      "cell_type": "markdown",
      "source": [
        "# Количество стратегий, встречающихся в предложениях заданного типа\n",
        "Печатает, сколько и каких стратегий встречается в предложениях заданного семантического типа. Можно забивать как один семантический тип, так и несколько (если вводится несколько семантических типов, нужно разделять их запятой).\n",
        "\n",
        "Пример ввода одного семантического типа: УсК - негенерализованное\n",
        "\n",
        "Пример ввода нескольких семантических типов: УсК - негенерализованное, ограничительное УсК\n",
        "\n",
        "Внимание: Прописывайте все заглавные буквы, необходимо написать каждый семантический тип **в точно таком же** формате, в каком он написан в таблице в столбце \"Семантические типы по Храковскому\" в файле с данными."
      ],
      "metadata": {
        "id": "3P9sgo33bzMf"
      }
    },
    {
      "cell_type": "code",
      "execution_count": null,
      "metadata": {
        "id": "0-i6Oib0byq7"
      },
      "outputs": [],
      "source": [
        "import pandas as pd\n",
        "\n",
        "def filter_and_count_strategies(sheet_path, sheet_name, semantic_type_query):\n",
        "    # Читаем данные с указанного листа Excel\n",
        "    df = pd.read_excel(sheet_path, sheet_name=sheet_name)\n",
        "\n",
        "    # Разделяем семантические типы по запятой и убираем лишние пробелы\n",
        "    semantic_types = [stype.strip() for stype in semantic_type_query.split(\",\")]\n",
        "\n",
        "    # Фильтруем строки, где семантический тип содержит хотя бы один из запросов пользователя\n",
        "    filtered_df = df[df['Семантические типы по Храковскому'].str.contains('|'.join(semantic_types), na=False)]\n",
        "\n",
        "    # Словарь для подсчёта стратегий\n",
        "    strategies_count = {}\n",
        "    # Словарь для подсчёта starred-стратегий\n",
        "    starred_count = {}\n",
        "\n",
        "    # Обрабатываем все столбцы со стратегиями\n",
        "    for col in df.columns:\n",
        "        if col.startswith(\"Стратегии\"):\n",
        "            for value in filtered_df[col].dropna():\n",
        "                if isinstance(value, str):  # Проверяем, что значение является строкой\n",
        "                    strategies = value.split(\"\\n\")  # Разделяем стратегии, если они идут через перенос строки\n",
        "                    for strategy in strategies:\n",
        "                        strategy = strategy.strip()  # Убираем лишние пробелы и символы новой строки\n",
        "                        if strategy:  # Игнорируем пустые строки\n",
        "                            if strategy.startswith(\"*\"):\n",
        "                                starred_count[strategy] = starred_count.get(strategy, 0) + 1\n",
        "                            else:\n",
        "                                strategies_count[strategy] = strategies_count.get(strategy, 0) + 1\n",
        "\n",
        "    # Сортируем стратегии по убыванию частоты\n",
        "    sorted_strategies = sorted(strategies_count.items(), key=lambda x: x[1], reverse=True)\n",
        "\n",
        "    # Формируем основную часть результата\n",
        "    result = [f\"{strategy} ({count})\" for strategy, count in sorted_strategies]\n",
        "\n",
        "    # Добавляем две пустые строки перед starred-стратегиями\n",
        "    result.append(\"\")  # пустая строка\n",
        "    result.extend([f\"{strategy} ({count})\" for strategy, count in starred_count.items()])\n",
        "\n",
        "    return result\n",
        "\n",
        "# Путь к файлу и название листа\n",
        "sheet_path = \"путь_к_файлу.xlsx\"  # путь к файлу XLSX\n",
        "sheet_name = \"Стратегии респондентов\"  # название листа\n",
        "\n",
        "# Ввод пользователя\n",
        "semantic_type_query = input(\"Введите семантический тип(ы) по Храковскому (разделяйте запятыми): \")\n",
        "\n",
        "# Получение и вывод результата\n",
        "result = filter_and_count_strategies(sheet_path, sheet_name, semantic_type_query)\n",
        "print(\"\\n\".join(result))"
      ]
    },
    {
      "cell_type": "markdown",
      "source": [
        "# Количество стратегий с вспомогательными словами, встречающимися в предложениях заданного типа"
      ],
      "metadata": {
        "id": "Zwb6sqWG9A9m"
      }
    },
    {
      "cell_type": "code",
      "execution_count": null,
      "metadata": {
        "id": "JhusCF8AZubk"
      },
      "outputs": [],
      "source": [
        "import pandas as pd\n",
        "\n",
        "def filter_and_count_strategies(sheet_path, sheet_name, semantic_type_query):\n",
        "    # Читаем данные с указанного листа Excel\n",
        "    df = pd.read_excel(sheet_path, sheet_name=sheet_name)\n",
        "\n",
        "    # Разделяем семантические типы по запятой и убираем лишние пробелы\n",
        "    semantic_types = [stype.strip() for stype in semantic_type_query.split(\",\")]\n",
        "\n",
        "    # Фильтруем строки, где семантический тип содержит хотя бы один из запросов пользователя\n",
        "    filtered_df = df[df['Семантические типы по Храковскому'].str.contains('|'.join(semantic_types), na=False)]\n",
        "\n",
        "    # Словарь для подсчёта стратегий\n",
        "    strategies_count = {}\n",
        "    # Словарь для подсчёта starred-стратегий\n",
        "    starred_count = {}\n",
        "\n",
        "    # Обрабатываем все столбцы со стратегиями\n",
        "    for col in df.columns:\n",
        "        if col.startswith(\"Стратегии\"):\n",
        "            for value in filtered_df[col].dropna():\n",
        "                if isinstance(value, str):  # Проверяем, что значение является строкой\n",
        "                    strategies = value.split(\"\\n\")  # Разделяем стратегии, если они идут через перенос строки\n",
        "                    for strategy in strategies:\n",
        "                        strategy = strategy.strip()  # Убираем лишние пробелы и символы новой строки\n",
        "                        if strategy:  # Игнорируем пустые строки\n",
        "                            if strategy.startswith(\"*\"):\n",
        "                                starred_count[strategy] = starred_count.get(strategy, 0) + 1\n",
        "                            else:\n",
        "                                strategies_count[strategy] = strategies_count.get(strategy, 0) + 1\n",
        "\n",
        "    # Сортируем стратегии по убыванию частоты\n",
        "    sorted_strategies = sorted(strategies_count.items(), key=lambda x: x[1], reverse=True)\n",
        "\n",
        "    # Формируем основную часть результата\n",
        "    result = [f\"{strategy} ({count})\" for strategy, count in sorted_strategies]\n",
        "\n",
        "    # Добавляем две пустые строки перед starred-стратегиями\n",
        "    result.append(\"\")  # пустая строка\n",
        "    result.extend([f\"{strategy} ({count})\" for strategy, count in starred_count.items()])\n",
        "\n",
        "    return result\n",
        "\n",
        "# Путь к файлу и название листа\n",
        "sheet_path = \"путь_к_файлу.xlsx\"  # путь к файлу XLSX\n",
        "sheet_name = \"Стратегии респондентов c доп. с\"  # название листа\n",
        "\n",
        "# Ввод пользователя\n",
        "semantic_type_query = input(\"Введите семантический тип(ы) по Храковскому (разделяйте запятыми): \")\n",
        "\n",
        "# Получение и вывод результата\n",
        "result = filter_and_count_strategies(sheet_path, sheet_name, semantic_type_query)\n",
        "print(\"\\n\".join(result))"
      ]
    },
    {
      "cell_type": "markdown",
      "source": [
        "# Семантические типы предложений, в которых встречается введённая стратегия выражения УСК\n",
        "\n",
        "Можно забивать только одну стратегию, на вход могут подаваться как стратегии со звездочкой (запрещенные), так и стратегии без звездочки (разрешенные). Стратегию нужно забивать именно в том виде, в каком она встречается в столбце \"Стратегии...\" на листе \"Стратегии респондентов\" таблицы с данными."
      ],
      "metadata": {
        "id": "bEE0gwj_94fu"
      }
    },
    {
      "cell_type": "code",
      "source": [
        "import pandas as pd\n",
        "from collections import defaultdict\n",
        "\n",
        "def find_strategies(file_path, sheet_name, strategies_input):\n",
        "    # Загружаем таблицу\n",
        "    df = pd.read_excel(file_path, sheet_name=sheet_name, header=0)\n",
        "\n",
        "    # Преобразуем стратегии из ввода в список\n",
        "    strategies = [s.strip() for s in strategies_input.split(\",\")]\n",
        "\n",
        "    # Словарь: {тип предложения: количество}\n",
        "    result = defaultdict(int)\n",
        "\n",
        "    for _, row in df.iterrows():\n",
        "        sem_type = row[\"Семантические типы по Храковскому\"]\n",
        "\n",
        "        for col in row.index:\n",
        "            if col.startswith(\"Стратегии\"):\n",
        "                cell = row[col]\n",
        "                if pd.isna(cell):\n",
        "                    continue\n",
        "\n",
        "                # Разделяем стратегии по строкам\n",
        "                strategies_in_cell = [s.strip() for s in str(cell).split(\"\\n\")]\n",
        "\n",
        "                # Считаем точные совпадения\n",
        "                for strategy in strategies:\n",
        "                    if strategy in strategies_in_cell:\n",
        "                        result[sem_type] += 1\n",
        "\n",
        "    # Выводим в нужном формате\n",
        "    for sem_type, count in sorted(result.items(), key=lambda x: -x[1]):\n",
        "        print(f\"{sem_type} ({count})\")\n",
        "\n",
        "# Параметры\n",
        "file_path = \"/content/drive/MyDrive/Экспедиция/Элицитация (размеченная) (1).xlsx\"\n",
        "sheet_name = \"Стратегии респондентов\"\n",
        "strategies_input = input(\"Введите стратегию: \")\n",
        "\n",
        "find_strategies(file_path, sheet_name, strategies_input)"
      ],
      "metadata": {
        "id": "Qs2Hgkj9BIc5"
      },
      "execution_count": null,
      "outputs": []
    },
    {
      "cell_type": "markdown",
      "source": [
        "# Носители, употребившие ту или иную стратегию\n",
        "Можно забивать только одну стратегию, на вход могут подаваться как стратегии со звездочкой (запрещенные), так и стратегии без звездочки (разрешенные)."
      ],
      "metadata": {
        "id": "Pt27s3ItxQYw"
      }
    },
    {
      "cell_type": "code",
      "source": [
        "from openpyxl import load_workbook\n",
        "\n",
        "# Загрузка Excel-файла\n",
        "filename = \"/content/drive/MyDrive/Экспедиция/Элицитация (размеченная) (1).xlsx\"  # Укажи нужное имя\n",
        "wb = load_workbook(filename)\n",
        "sheet = wb[\"Стратегии респондентов\"]\n",
        "\n",
        "# Ввод стратегии для поиска\n",
        "target_strategy = input(\"Введите точную стратегию (с * если нужно): \").strip()\n",
        "\n",
        "matching_respondents = []\n",
        "\n",
        "# Первая строка — заголовки с именами респондентов\n",
        "header = [cell.value for cell in sheet[1]]\n",
        "\n",
        "# Перебираем каждый столбец с респондентом\n",
        "for col_idx, name in enumerate(header):\n",
        "    if name is None:\n",
        "        continue\n",
        "\n",
        "    # Проверяем ячейки в столбце (начиная со второй строки)\n",
        "    for row_idx in range(2, sheet.max_row + 1):\n",
        "        cell = sheet.cell(row=row_idx, column=col_idx + 1).value\n",
        "        if cell is None:\n",
        "            continue\n",
        "\n",
        "        # Разделяем ячейку на отдельные стратегии\n",
        "        strategies_in_cell = [s.strip() for s in str(cell).split(\"\\n\")]\n",
        "\n",
        "        # Если нужная стратегия найдена точно\n",
        "        if target_strategy in strategies_in_cell:\n",
        "            matching_respondents.append(name)\n",
        "            break  # Можно выходить: нашли у этого респондента, идём к следующему\n",
        "\n",
        "# Вывод результатов\n",
        "if matching_respondents:\n",
        "    print(\"Респонденты, использующие стратегию:\", target_strategy)\n",
        "    for r in matching_respondents:\n",
        "        print(\"-\", r)\n",
        "else:\n",
        "    print(\"Ни один респондент не использует стратегию:\", target_strategy)\n"
      ],
      "metadata": {
        "id": "W3tRYyPRxUu-"
      },
      "execution_count": null,
      "outputs": []
    }
  ]
}